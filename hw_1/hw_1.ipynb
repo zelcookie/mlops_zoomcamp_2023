{
 "cells": [
  {
   "cell_type": "code",
   "execution_count": 1,
   "id": "a422eb85",
   "metadata": {},
   "outputs": [],
   "source": [
    "import pandas as pd"
   ]
  },
  {
   "cell_type": "markdown",
   "id": "061c29bd",
   "metadata": {},
   "source": [
    "## Q1. Downloading the data\n",
    "\n",
    "We'll use [the same NYC taxi dataset](https://www1.nyc.gov/site/tlc/about/tlc-trip-record-data.page),\n",
    "but instead of \"**Green** Taxi Trip Records\", we'll use \"**Yellow** Taxi Trip Records\".\n",
    "\n",
    "Download the data for January and February 2022.\n",
    "\n",
    "Read the data for January. How many columns are there?\n",
    "\n",
    "* 16\n",
    "* 17\n",
    "* 18\n",
    "* 19 &check;\n"
   ]
  },
  {
   "cell_type": "code",
   "execution_count": 2,
   "id": "c5eb549a",
   "metadata": {},
   "outputs": [],
   "source": [
    "# ! wget https://d37ci6vzurychx.cloudfront.net/trip-data/yellow_tripdata_2022-01.parquet\n",
    "# ! wget https://d37ci6vzurychx.cloudfront.net/trip-data/yellow_tripdata_2022-02.parquet"
   ]
  },
  {
   "cell_type": "code",
   "execution_count": 3,
   "id": "a611a5f0",
   "metadata": {},
   "outputs": [],
   "source": [
    "df = pd.read_parquet('./yellow_tripdata_2022-01.parquet')"
   ]
  },
  {
   "cell_type": "code",
   "execution_count": 4,
   "id": "77e1dd15",
   "metadata": {},
   "outputs": [
    {
     "data": {
      "text/plain": [
       "(2463931, 19)"
      ]
     },
     "execution_count": 4,
     "metadata": {},
     "output_type": "execute_result"
    }
   ],
   "source": [
    "df.shape"
   ]
  },
  {
   "cell_type": "markdown",
   "id": "1e77845f",
   "metadata": {},
   "source": [
    "## Q2. Computing duration\n",
    "\n",
    "Now let's compute the `duration` variable. It should contain the duration of a ride in minutes. \n",
    "\n",
    "What's the standard deviation of the trips duration in January?\n",
    "\n",
    "* 41.45\n",
    "* 46.45 &check;\n",
    "* 51.45\n",
    "* 56.45"
   ]
  },
  {
   "cell_type": "code",
   "execution_count": 5,
   "id": "8a7dfa07",
   "metadata": {},
   "outputs": [
    {
     "data": {
      "text/plain": [
       "46.44530513776802"
      ]
     },
     "execution_count": 5,
     "metadata": {},
     "output_type": "execute_result"
    }
   ],
   "source": [
    "df['duration'] = df.tpep_dropoff_datetime - df.tpep_pickup_datetime\n",
    "df.duration = df.duration.apply(lambda td: td.total_seconds() / 60)\n",
    "df.duration.std()"
   ]
  },
  {
   "cell_type": "markdown",
   "id": "d78eb3c0",
   "metadata": {},
   "source": [
    "## Q3. Dropping outliers\n",
    "\n",
    "Next, we need to check the distribution of the `duration` variable. There are some outliers. Let's remove them and keep only the records where the duration was between 1 and 60 minutes (inclusive).\n",
    "\n",
    "What fraction of the records left after you dropped the outliers?\n",
    "\n",
    "* 90%\n",
    "* 92%\n",
    "* 95%\n",
    "* 98% &check;"
   ]
  },
  {
   "cell_type": "code",
   "execution_count": 6,
   "id": "de189402",
   "metadata": {},
   "outputs": [
    {
     "data": {
      "text/plain": [
       "98.27547930522405"
      ]
     },
     "execution_count": 6,
     "metadata": {},
     "output_type": "execute_result"
    }
   ],
   "source": [
    "old_size = df.shape[0]\n",
    "df = df[(df.duration >= 1) & (df.duration <= 60)]\n",
    "new_size = df.shape[0]\n",
    "new_size / old_size * 100"
   ]
  },
  {
   "cell_type": "markdown",
   "id": "d4f5d929",
   "metadata": {},
   "source": [
    "## Q4. One-hot encoding\n",
    "\n",
    "Let's apply one-hot encoding to the pickup and dropoff location IDs. We'll use only these two features for our model. \n",
    "\n",
    "* Turn the dataframe into a list of dictionaries\n",
    "* Fit a dictionary vectorizer \n",
    "* Get a feature matrix from it\n",
    "\n",
    "What's the dimensionality of this matrix (number of columns)?\n",
    "\n",
    "* 2\n",
    "* 155\n",
    "* 345\n",
    "* 515 &check;\n",
    "* 715"
   ]
  },
  {
   "cell_type": "code",
   "execution_count": 7,
   "id": "f3354674",
   "metadata": {},
   "outputs": [],
   "source": [
    "from sklearn.feature_extraction import DictVectorizer"
   ]
  },
  {
   "cell_type": "code",
   "execution_count": 8,
   "id": "a224414b",
   "metadata": {},
   "outputs": [
    {
     "data": {
      "text/plain": [
       "515"
      ]
     },
     "execution_count": 8,
     "metadata": {},
     "output_type": "execute_result"
    }
   ],
   "source": [
    "y_train = df.duration\n",
    "\n",
    "train_dicts = df[['PULocationID', 'DOLocationID']].astype(str).to_dict(orient='records')\n",
    "dv = DictVectorizer()\n",
    "X_train = dv.fit_transform(train_dicts)\n",
    "X_train.shape[1]"
   ]
  },
  {
   "cell_type": "markdown",
   "id": "64b150d3",
   "metadata": {},
   "source": [
    "## Q5. Training a model\n",
    "\n",
    "Now let's use the feature matrix from the previous step to train a model. \n",
    "\n",
    "* Train a plain linear regression model with default parameters \n",
    "* Calculate the RMSE of the model on the training data\n",
    "\n",
    "What's the RMSE on train?\n",
    "\n",
    "* 6.99 &check;\n",
    "* 11.99\n",
    "* 16.99\n",
    "* 21.99"
   ]
  },
  {
   "cell_type": "code",
   "execution_count": 9,
   "id": "e0e798e6",
   "metadata": {},
   "outputs": [],
   "source": [
    "from sklearn.linear_model import LinearRegression\n",
    "from sklearn.metrics import mean_squared_error"
   ]
  },
  {
   "cell_type": "code",
   "execution_count": 10,
   "id": "5a789397",
   "metadata": {},
   "outputs": [
    {
     "data": {
      "text/plain": [
       "6.986190814952337"
      ]
     },
     "execution_count": 10,
     "metadata": {},
     "output_type": "execute_result"
    }
   ],
   "source": [
    "model = LinearRegression()\n",
    "y_pred = model.fit(X_train, y_train).predict(X_train)\n",
    "mean_squared_error(y_train, y_pred, squared=False)"
   ]
  },
  {
   "cell_type": "markdown",
   "id": "beca4fa0",
   "metadata": {},
   "source": [
    "## Q6. Evaluating the model\n",
    "\n",
    "Now let's apply this model to the validation dataset (February 2022). \n",
    "\n",
    "What's the RMSE on validation?\n",
    "\n",
    "* 7.79 &check;\n",
    "* 12.79\n",
    "* 17.79\n",
    "* 22.79"
   ]
  },
  {
   "cell_type": "code",
   "execution_count": 11,
   "id": "3f92fe24",
   "metadata": {},
   "outputs": [
    {
     "data": {
      "text/plain": [
       "7.786407163179794"
      ]
     },
     "execution_count": 11,
     "metadata": {},
     "output_type": "execute_result"
    }
   ],
   "source": [
    "df = pd.read_parquet('./yellow_tripdata_2022-02.parquet')\n",
    "df['duration'] = df.tpep_dropoff_datetime - df.tpep_pickup_datetime\n",
    "df.duration = df.duration.apply(lambda td: td.total_seconds() / 60)\n",
    "df = df[(df.duration >= 1) & (df.duration <= 60)]\n",
    "\n",
    "y_test = df.duration\n",
    "test_dicts = df[['PULocationID', 'DOLocationID']].astype(str).to_dict(orient='records')\n",
    "X_test = dv.transform(test_dicts)\n",
    "\n",
    "y_pred = model.predict(X_test)\n",
    "mean_squared_error(y_test, y_pred, squared=False)"
   ]
  },
  {
   "cell_type": "code",
   "execution_count": null,
   "id": "bf2fdd8d",
   "metadata": {},
   "outputs": [],
   "source": []
  }
 ],
 "metadata": {
  "kernelspec": {
   "display_name": "Python 3 (ipykernel)",
   "language": "python",
   "name": "python3"
  },
  "language_info": {
   "codemirror_mode": {
    "name": "ipython",
    "version": 3
   },
   "file_extension": ".py",
   "mimetype": "text/x-python",
   "name": "python",
   "nbconvert_exporter": "python",
   "pygments_lexer": "ipython3",
   "version": "3.9.14"
  }
 },
 "nbformat": 4,
 "nbformat_minor": 5
}
